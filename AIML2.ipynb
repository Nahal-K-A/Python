{
  "nbformat": 4,
  "nbformat_minor": 0,
  "metadata": {
    "colab": {
      "provenance": [],
      "authorship_tag": "ABX9TyP7xxf4kwq4gKg+9Q9TLgtu",
      "include_colab_link": true
    },
    "kernelspec": {
      "name": "python3",
      "display_name": "Python 3"
    },
    "language_info": {
      "name": "python"
    }
  },
  "cells": [
    {
      "cell_type": "markdown",
      "metadata": {
        "id": "view-in-github",
        "colab_type": "text"
      },
      "source": [
        "<a href=\"https://colab.research.google.com/github/Nahal-K-A/Python/blob/main/AIML2.ipynb\" target=\"_parent\"><img src=\"https://colab.research.google.com/assets/colab-badge.svg\" alt=\"Open In Colab\"/></a>"
      ]
    },
    {
      "cell_type": "code",
      "execution_count": null,
      "metadata": {
        "colab": {
          "base_uri": "https://localhost:8080/"
        },
        "id": "xMfWLLSlmgnA",
        "outputId": "29d133d5-01c7-43cb-b4f1-2188bda14744"
      },
      "outputs": [
        {
          "output_type": "stream",
          "name": "stdout",
          "text": [
            "[[10, 20, 30], [40, 50, 60], [70, 80, 90]]\n",
            "Elements by row wise:\n",
            "[10, 20, 30]\n",
            "[40, 50, 60]\n",
            "[70, 80, 90]\n",
            "Elements by matrix style:\n",
            "10 20 30 \n",
            "40 50 60 \n",
            "70 80 90 \n"
          ]
        }
      ],
      "source": [
        "n=[[10,20,30], [40,50,60], [70,80,90]]\n",
        "print(n)\n",
        "print('Elements by row wise:')\n",
        "for r in n:\n",
        "  print(r)\n",
        "print('Elements by matrix style:')\n",
        "for i in range(len(n)):\n",
        "  for j in range(len(n[i])):\n",
        "    print(n[i][j], end=' ')\n",
        "  print()"
      ]
    },
    {
      "cell_type": "code",
      "source": [
        "n1=[[10,20,30], [40,50,60], [70,80,90]]\n",
        "n2=[[90,80,70], [60,50,40], [30,20,10]]\n",
        "N=[]  # N is initialized as an empty list\n",
        "\n",
        "# Create the nested list structure in N before assigning values\n",
        "for i in range(len(n1)):\n",
        "  N.append([0] * len(n1[0]))  # Initialize each row with 0s\n",
        "print(N)\n",
        "\n",
        "# Now you can safely assign values\n",
        "for i in range(len(n1)):\n",
        "  for j in range(len(n1[i])):\n",
        "    N[i][j] = n1[i][j]+n2[i][j]\n",
        "\n",
        "for i in range(len(N)):\n",
        "  for j in range(len(N[i])):\n",
        "    print(N[i][j], end=' ')\n",
        "  print()"
      ],
      "metadata": {
        "colab": {
          "base_uri": "https://localhost:8080/"
        },
        "id": "dgw-fkSJp1K7",
        "outputId": "10d46acd-d302-4ae6-8cad-aabccef35085"
      },
      "execution_count": null,
      "outputs": [
        {
          "output_type": "stream",
          "name": "stdout",
          "text": [
            "[[0, 0, 0], [0, 0, 0], [0, 0, 0]]\n",
            "100 100 100 \n",
            "100 100 100 \n",
            "100 100 100 \n"
          ]
        }
      ]
    },
    {
      "cell_type": "code",
      "source": [
        "n1=[[10,20,30], [40,50,60], [70,80,90]]\n",
        "n2=[[90,80,70], [60,50,40], [30,20,10]]\n",
        "\n",
        "# Initialize the result matrix N with zeros\n",
        "N = [[0 for _ in range(len(n2[0]))] for _ in range(len(n1))]\n",
        "\n",
        "# Perform matrix multiplication\n",
        "for i in range(len(n1)):\n",
        "    for j in range(len(n2[0])):\n",
        "        for k in range(len(n2)):\n",
        "            N[i][j] += n1[i][k] * n2[k][j]\n",
        "\n",
        "# Print the result matrix\n",
        "for row in N:\n",
        "    print(row)"
      ],
      "metadata": {
        "colab": {
          "base_uri": "https://localhost:8080/"
        },
        "id": "Q74nOODLq_cM",
        "outputId": "39c863e1-7c6a-4b04-eaa7-709d1dfaefcd"
      },
      "execution_count": null,
      "outputs": [
        {
          "output_type": "stream",
          "name": "stdout",
          "text": [
            "[3000, 2400, 1800]\n",
            "[8400, 6900, 5400]\n",
            "[13800, 11400, 9000]\n"
          ]
        }
      ]
    },
    {
      "cell_type": "code",
      "source": [
        "count=0\n",
        "for i in range(5,0,-1):\n",
        "  for j in range(i,0,-1):\n",
        "    if i+j==5:\n",
        "      count+=1\n",
        "      break\n",
        "    else:\n",
        "      count+=i*j\n",
        "print(count)"
      ],
      "metadata": {
        "colab": {
          "base_uri": "https://localhost:8080/"
        },
        "id": "yxGmEp27tln-",
        "outputId": "f381cda4-2c0c-4f0b-fce9-8f5580d06203"
      },
      "execution_count": null,
      "outputs": [
        {
          "output_type": "stream",
          "name": "stdout",
          "text": [
            "129\n"
          ]
        }
      ]
    },
    {
      "cell_type": "code",
      "source": [
        "import random\n",
        "numbers = random.sample(range(-100, 101), 20)\n",
        "pos=[]\n",
        "neg=[]\n",
        "for i in numbers:\n",
        "  if i<0:\n",
        "    neg.append(i)\n",
        "  else:\n",
        "    pos.append(i)\n",
        "print(pos)\n",
        "print(neg)\n"
      ],
      "metadata": {
        "colab": {
          "base_uri": "https://localhost:8080/"
        },
        "id": "86SmT_QaXuIv",
        "outputId": "dbc88167-e209-41db-ca4d-93e7df8c9e66"
      },
      "execution_count": null,
      "outputs": [
        {
          "output_type": "stream",
          "name": "stdout",
          "text": [
            "[62, 86, 32, 17, 21, 88, 66, 63, 7, 23]\n",
            "[-72, -91, -17, -51, -77, -100, -42, -14, -37, -35]\n"
          ]
        }
      ]
    },
    {
      "cell_type": "code",
      "source": [
        "def add_sub(a, b):\n",
        "  sum = a+b\n",
        "  sub = a-b\n",
        "  return sum,sub\n",
        "\n",
        "sum,sub = add_sub(50,50)\n",
        "print(f\"sum = {sum}     Difference = {sub}\")"
      ],
      "metadata": {
        "colab": {
          "base_uri": "https://localhost:8080/"
        },
        "id": "EDUv9O7VaYs-",
        "outputId": "d8aa2507-3923-4c39-b8ea-c8126a0463cb"
      },
      "execution_count": null,
      "outputs": [
        {
          "output_type": "stream",
          "name": "stdout",
          "text": [
            "sum = 100     Difference = 0\n"
          ]
        }
      ]
    },
    {
      "cell_type": "markdown",
      "source": [
        "Function to find factorial\n"
      ],
      "metadata": {
        "id": "CZSW6SkFg0oI"
      }
    },
    {
      "cell_type": "code",
      "source": [
        "def fact(num):\n",
        "  if num==0:\n",
        "    return 0\n",
        "  elif num==1:\n",
        "    return 1\n",
        "  else:\n",
        "    return num*fact(num-1)\n",
        "\n",
        "num=int(input())\n",
        "fac=fact(num)\n",
        "print(fac\n",
        "      )"
      ],
      "metadata": {
        "colab": {
          "base_uri": "https://localhost:8080/"
        },
        "id": "I0VonSLxg6x1",
        "outputId": "8ef2ba12-003b-4a41-cedc-f8c9a4d4da49"
      },
      "execution_count": null,
      "outputs": [
        {
          "output_type": "stream",
          "name": "stdout",
          "text": [
            "4\n",
            "24\n"
          ]
        }
      ]
    },
    {
      "cell_type": "code",
      "source": [
        "def tail_rec(n):\n",
        "  if(n==0):\n",
        "    return\n",
        "  else:\n",
        "    print(n)\n",
        "    return tail_rec(n-1)\n",
        "\n",
        "(tail_rec(4))"
      ],
      "metadata": {
        "colab": {
          "base_uri": "https://localhost:8080/"
        },
        "id": "gQBYkwfmlOtR",
        "outputId": "dd93126e-2185-4bd3-dfba-d9fa0f0dbacb"
      },
      "execution_count": null,
      "outputs": [
        {
          "output_type": "stream",
          "name": "stdout",
          "text": [
            "4\n",
            "3\n",
            "2\n",
            "1\n"
          ]
        }
      ]
    },
    {
      "cell_type": "markdown",
      "source": [
        "user defined fn to find the sum and difference of two 3*3 matrix\n"
      ],
      "metadata": {
        "id": "GQ_rYcfanjcw"
      }
    },
    {
      "cell_type": "code",
      "source": [
        "def sum_diff(A, B):\n",
        "  N=[]\n",
        "  M=[]\n",
        "  for i in range(len(A)):\n",
        "    N.append([0] * len(A[0]))\n",
        "    M.append([0] * len(A[0]))\n",
        "  for i in range(len(A)):\n",
        "    for j in range(len(A[i])):\n",
        "      N[i][j] = A[i][j]+B[i][j]\n",
        "      M[i][j] = A[i][j]-B[i][j]\n",
        "  return N, M\n",
        "\n",
        "\n",
        "A = [[1,2,3],[1,2,3],[1,2,3]]\n",
        "B = [[3,2,1],[3,2,1],[3,2,1]]\n",
        "\n",
        "sum_res, diff_res = sum_diff(A, B)\n",
        "print(sum_res)\n",
        "print(diff_res)\n"
      ],
      "metadata": {
        "colab": {
          "base_uri": "https://localhost:8080/"
        },
        "id": "iOH1j_28nrP2",
        "outputId": "8ddd8fea-2eb8-4bfd-8cb3-de98d75e5c62"
      },
      "execution_count": null,
      "outputs": [
        {
          "output_type": "stream",
          "name": "stdout",
          "text": [
            "[[4, 4, 4], [4, 4, 4], [4, 4, 4]]\n",
            "[[-2, 0, 2], [-2, 0, 2], [-2, 0, 2]]\n"
          ]
        }
      ]
    },
    {
      "cell_type": "code",
      "source": [
        "def nt(n):\n",
        "  if(n<=1):\n",
        "    return\n",
        "  else:\n",
        "    nt(n-2)\n",
        "    print(n)\n",
        "    nt(n-1)\n",
        "    print(n-2)\n",
        "\n",
        "nt(4)\n"
      ],
      "metadata": {
        "colab": {
          "base_uri": "https://localhost:8080/"
        },
        "id": "lncT_5FUt35Q",
        "outputId": "ec151824-eefc-4b37-f206-db8231f239f1"
      },
      "execution_count": null,
      "outputs": [
        {
          "output_type": "stream",
          "name": "stdout",
          "text": [
            "2\n",
            "0\n",
            "4\n",
            "3\n",
            "2\n",
            "0\n",
            "1\n",
            "2\n"
          ]
        }
      ]
    }
  ]
}