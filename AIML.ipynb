{
  "nbformat": 4,
  "nbformat_minor": 0,
  "metadata": {
    "colab": {
      "provenance": [],
      "authorship_tag": "ABX9TyMJ7+gHa2bVOfkoVZchGhJ/",
      "include_colab_link": true
    },
    "kernelspec": {
      "name": "python3",
      "display_name": "Python 3"
    },
    "language_info": {
      "name": "python"
    }
  },
  "cells": [
    {
      "cell_type": "markdown",
      "metadata": {
        "id": "view-in-github",
        "colab_type": "text"
      },
      "source": [
        "<a href=\"https://colab.research.google.com/github/Nahal-K-A/Python/blob/main/AIML.ipynb\" target=\"_parent\"><img src=\"https://colab.research.google.com/assets/colab-badge.svg\" alt=\"Open In Colab\"/></a>"
      ]
    },
    {
      "cell_type": "code",
      "execution_count": null,
      "metadata": {
        "colab": {
          "base_uri": "https://localhost:8080/"
        },
        "id": "Bn2mcm7119zB",
        "outputId": "0941c386-bf93-4072-923b-52b6dae3383a"
      },
      "outputs": [
        {
          "output_type": "stream",
          "name": "stdout",
          "text": [
            "138322021171568\n",
            "138322021171568\n",
            "138321587105584\n"
          ]
        }
      ],
      "source": [
        "a=5\n",
        "b=5\n",
        "c=\"Rashi\"\n",
        "\n",
        "print(id(a))\n",
        "print(id(b))\n",
        "print(id(c))"
      ]
    },
    {
      "cell_type": "code",
      "source": [
        "a=[10,67.08,'raashid']\n",
        "print(type(a))\n",
        "print(a[1:3])\n",
        "print(a[:])\n",
        "print(a[:2])"
      ],
      "metadata": {
        "colab": {
          "base_uri": "https://localhost:8080/"
        },
        "collapsed": true,
        "id": "9rLbI5JN4H8S",
        "outputId": "e9fc67d5-86ad-44f8-d070-604c4d44cb42"
      },
      "execution_count": null,
      "outputs": [
        {
          "output_type": "stream",
          "name": "stdout",
          "text": [
            "<class 'list'>\n",
            "[67.08, 'raashid']\n",
            "[10, 67.08, 'raashid']\n",
            "[10, 67.08]\n"
          ]
        }
      ]
    },
    {
      "cell_type": "code",
      "source": [
        "a,b=(int(x) for x in input('enter the value').split())\n",
        "print(a*b)"
      ],
      "metadata": {
        "colab": {
          "base_uri": "https://localhost:8080/"
        },
        "id": "Mji-fd9G6MAr",
        "outputId": "7dd46e9a-1a3a-422e-801c-a03df0902c69"
      },
      "execution_count": null,
      "outputs": [
        {
          "output_type": "stream",
          "name": "stdout",
          "text": [
            "enter the value2 5\n",
            "10\n"
          ]
        }
      ]
    },
    {
      "cell_type": "code",
      "source": [
        "numbers=[int(x) for x in input('enter the value').split()]\n",
        "print(numbers)\n",
        "for x in numbers:\n",
        "    print(x)\n"
      ],
      "metadata": {
        "colab": {
          "base_uri": "https://localhost:8080/"
        },
        "id": "GR_3SQMM8NhT",
        "outputId": "029a74d2-377b-4927-e07f-25a151042f8c"
      },
      "execution_count": null,
      "outputs": [
        {
          "output_type": "stream",
          "name": "stdout",
          "text": [
            "enter the value4 5 6 7 8 9 \n",
            "[4, 5, 6, 7, 8, 9]\n",
            "4\n",
            "5\n",
            "6\n",
            "7\n",
            "8\n",
            "9\n"
          ]
        }
      ]
    },
    {
      "cell_type": "code",
      "source": [
        "for i in range(0,10):\n",
        "    print('*'*(i+1),end=\"\")\n",
        "    print()"
      ],
      "metadata": {
        "colab": {
          "base_uri": "https://localhost:8080/"
        },
        "collapsed": true,
        "id": "wexuymn35K4N",
        "outputId": "fc8a30ef-85ee-4e98-c8b5-943abba27f67"
      },
      "execution_count": null,
      "outputs": [
        {
          "output_type": "stream",
          "name": "stdout",
          "text": [
            "*\n",
            "**\n",
            "***\n",
            "****\n",
            "*****\n",
            "******\n",
            "*******\n",
            "********\n",
            "*********\n",
            "**********\n"
          ]
        }
      ]
    },
    {
      "cell_type": "code",
      "source": [
        "rows = 16\n",
        "for i in range(rows):\n",
        "    print(\" \" * (rows - i - 1), end=\"\")\n",
        "    print(\"^\" * (2 * i + 1))\n",
        "for i in range(rows-6):\n",
        "    print(\" \"*13,end=\"\")\n",
        "    print(\"|\" * 4)\n"
      ],
      "metadata": {
        "colab": {
          "base_uri": "https://localhost:8080/"
        },
        "id": "VzxyAr-KCFH2",
        "outputId": "a0fea30f-d121-4ed6-b88e-205f3b5de47c"
      },
      "execution_count": null,
      "outputs": [
        {
          "output_type": "stream",
          "name": "stdout",
          "text": [
            "               ^\n",
            "              ^^^\n",
            "             ^^^^^\n",
            "            ^^^^^^^\n",
            "           ^^^^^^^^^\n",
            "          ^^^^^^^^^^^\n",
            "         ^^^^^^^^^^^^^\n",
            "        ^^^^^^^^^^^^^^^\n",
            "       ^^^^^^^^^^^^^^^^^\n",
            "      ^^^^^^^^^^^^^^^^^^^\n",
            "     ^^^^^^^^^^^^^^^^^^^^^\n",
            "    ^^^^^^^^^^^^^^^^^^^^^^^\n",
            "   ^^^^^^^^^^^^^^^^^^^^^^^^^\n",
            "  ^^^^^^^^^^^^^^^^^^^^^^^^^^^\n",
            " ^^^^^^^^^^^^^^^^^^^^^^^^^^^^^\n",
            "^^^^^^^^^^^^^^^^^^^^^^^^^^^^^^^\n",
            "             ||||\n",
            "             ||||\n",
            "             ||||\n",
            "             ||||\n",
            "             ||||\n",
            "             ||||\n",
            "             ||||\n",
            "             ||||\n",
            "             ||||\n",
            "             ||||\n"
          ]
        }
      ]
    },
    {
      "cell_type": "code",
      "source": [
        "a,b,c=1,2,3\n",
        "l=[a,b,c]\n",
        "print(type(l))"
      ],
      "metadata": {
        "colab": {
          "base_uri": "https://localhost:8080/"
        },
        "id": "5kLCopmpQFbs",
        "outputId": "c58243a3-f338-4f64-e6f4-57e1afa02d60"
      },
      "execution_count": null,
      "outputs": [
        {
          "output_type": "stream",
          "name": "stdout",
          "text": [
            "<class 'list'>\n"
          ]
        }
      ]
    },
    {
      "cell_type": "code",
      "source": [
        "a = 10\n",
        "b = 3\n",
        "a//=b\n",
        "\n",
        "print(a)  # Output: 3"
      ],
      "metadata": {
        "colab": {
          "base_uri": "https://localhost:8080/"
        },
        "id": "7AvU8yS1SYi0",
        "outputId": "36edc30c-61f5-4d1c-ccdb-5f8bd81327ae"
      },
      "execution_count": null,
      "outputs": [
        {
          "output_type": "stream",
          "name": "stdout",
          "text": [
            "3\n"
          ]
        }
      ]
    },
    {
      "cell_type": "code",
      "source": [
        "l1=[1,2,3]\n",
        "l2=[1,2,3]\n",
        "print(id(l1),id(l2))\n",
        "print(l1 is l2)\n",
        "l3=[1,3,2]\n",
        "print(l1 is l3)\n",
        "print(l1==l2)"
      ],
      "metadata": {
        "colab": {
          "base_uri": "https://localhost:8080/"
        },
        "id": "CZEj9aszTN0W",
        "outputId": "86de05d2-34ec-45d8-b286-6004f34d802e"
      },
      "execution_count": null,
      "outputs": [
        {
          "output_type": "stream",
          "name": "stdout",
          "text": [
            "136679221953280 136678997416768\n",
            "False\n",
            "False\n",
            "True\n"
          ]
        }
      ]
    },
    {
      "cell_type": "code",
      "source": [
        "for i in range(10):\n",
        "    if i ==7:\n",
        "        print('BREAK')\n",
        "\n",
        "        continue\n",
        "    print(i)\n",
        "print(\" iam out of for loop\")"
      ],
      "metadata": {
        "colab": {
          "base_uri": "https://localhost:8080/"
        },
        "id": "F2mIwmE4bEZ7",
        "outputId": "b5f35452-9f72-4f61-d121-f2bdf9788c61"
      },
      "execution_count": null,
      "outputs": [
        {
          "output_type": "stream",
          "name": "stdout",
          "text": [
            "0\n",
            "1\n",
            "2\n",
            "3\n",
            "4\n",
            "5\n",
            "6\n",
            "BREAK\n",
            "8\n",
            "9\n",
            " iam out of for loop\n"
          ]
        }
      ]
    },
    {
      "cell_type": "code",
      "source": [
        "i=1\n",
        "j=1\n",
        "for i in range(1,11):\n",
        "  if(i%3!=0):\n",
        "    j+=2\n",
        "    continue\n",
        "  if(j%3==0):\n",
        "    break\n",
        "print(i+j)"
      ],
      "metadata": {
        "colab": {
          "base_uri": "https://localhost:8080/"
        },
        "id": "18tCCIT5eNTE",
        "outputId": "5177725b-3f29-4466-8e89-cb296aaf96ac"
      },
      "execution_count": null,
      "outputs": [
        {
          "output_type": "stream",
          "name": "stdout",
          "text": [
            "15\n"
          ]
        }
      ]
    },
    {
      "cell_type": "code",
      "source": [
        "r=1\n",
        "for i in range(3,6):\n",
        "  r*=i\n",
        "  for j in range(2,i):\n",
        "    if i%j==0:\n",
        "      r-=j\n",
        "print(r)"
      ],
      "metadata": {
        "id": "koTbUCm3l4ym",
        "colab": {
          "base_uri": "https://localhost:8080/"
        },
        "outputId": "d6065e7e-5c96-49f2-90ea-5f68498cf81a"
      },
      "execution_count": null,
      "outputs": [
        {
          "output_type": "stream",
          "name": "stdout",
          "text": [
            "50\n"
          ]
        }
      ]
    },
    {
      "cell_type": "code",
      "source": [
        "x=0\n",
        "for i in range(2,5):\n",
        "  for j in range(1,i):\n",
        "    x+=j\n",
        "    if x%3==0:\n",
        "      x-=i\n",
        "print(x)"
      ],
      "metadata": {
        "colab": {
          "base_uri": "https://localhost:8080/"
        },
        "id": "JSSA7ArGOu8j",
        "outputId": "5fc9105d-4551-4d1a-cdc7-6e5bd6caa802"
      },
      "execution_count": null,
      "outputs": [
        {
          "output_type": "stream",
          "name": "stdout",
          "text": [
            "10\n"
          ]
        }
      ]
    },
    {
      "cell_type": "code",
      "source": [
        "list=[\"suny\",\"bunny\",\"chunny\",\"pinny\"]\n",
        "print(\"sunny\" in list)\n",
        "print(\"suny\" in list)\n",
        "print(\"chunny\" not in list)\n",
        "print(\"pinny\" not in list)"
      ],
      "metadata": {
        "colab": {
          "base_uri": "https://localhost:8080/"
        },
        "id": "SpUUGw1bS_NH",
        "outputId": "f5180224-df6c-435b-f745-43addfa58639"
      },
      "execution_count": null,
      "outputs": [
        {
          "output_type": "stream",
          "name": "stdout",
          "text": [
            "False\n",
            "True\n",
            "False\n",
            "False\n"
          ]
        }
      ]
    },
    {
      "cell_type": "code",
      "source": [
        "l=eval(input(\"enter input\"))\n",
        "print(type(l))\n",
        "print(l)\n"
      ],
      "metadata": {
        "colab": {
          "base_uri": "https://localhost:8080/"
        },
        "id": "MSYkcnsKVu91",
        "outputId": "48d978de-20d8-4183-9d2b-53fbdf9c68ff"
      },
      "execution_count": null,
      "outputs": [
        {
          "output_type": "stream",
          "name": "stdout",
          "text": [
            "enter input{1,2,3}\n",
            "<class 'set'>\n",
            "{1, 2, 3}\n"
          ]
        }
      ]
    },
    {
      "cell_type": "code",
      "source": [
        "a,b,c=[eval(x) for x in input(\"enter 3 values\").split()]\n",
        "print(type(a),type(b),type(c))\n",
        "print(a,b,c)"
      ],
      "metadata": {
        "colab": {
          "base_uri": "https://localhost:8080/"
        },
        "id": "X99QRxFuWeOI",
        "outputId": "61b8b0e0-5d8a-4c73-e741-df431c938b90"
      },
      "execution_count": null,
      "outputs": [
        {
          "output_type": "stream",
          "name": "stdout",
          "text": [
            "enter 3 values\"hello\" [1,2,3] {1,2,3}\n",
            "<class 'str'> <class 'list'> <class 'set'>\n",
            "hello [1, 2, 3] {1, 2, 3}\n"
          ]
        }
      ]
    },
    {
      "cell_type": "code",
      "source": [
        "s=\"Farhan\"\n",
        "print(s[2:4])"
      ],
      "metadata": {
        "colab": {
          "base_uri": "https://localhost:8080/"
        },
        "id": "oAUc4UgmWzQJ",
        "outputId": "7a61e63e-9c97-47e6-a83b-47639b05c0dc"
      },
      "execution_count": null,
      "outputs": [
        {
          "output_type": "stream",
          "name": "stdout",
          "text": [
            "rh\n"
          ]
        }
      ]
    },
    {
      "cell_type": "code",
      "source": [
        "s=\"hello \"\n",
        "a=\"moitheen\"\n",
        "r=s+\" \"+a\n",
        "r1=s*5\n",
        "length=len(r)\n",
        "print(length)\n",
        "\n",
        "print(r)\n",
        "print(r1)\n"
      ],
      "metadata": {
        "colab": {
          "base_uri": "https://localhost:8080/"
        },
        "id": "5mHDQ2l_Yp18",
        "outputId": "a0832582-c931-4b67-f4c6-22748e9904b0"
      },
      "execution_count": null,
      "outputs": [
        {
          "output_type": "stream",
          "name": "stdout",
          "text": [
            "15\n",
            "hello  moitheen\n",
            "hello hello hello hello hello \n"
          ]
        }
      ]
    },
    {
      "cell_type": "code",
      "source": [
        "s=\"           hello         \"\n",
        "\n",
        "print(s)\n",
        "r=s.strip()\n",
        "print(r)"
      ],
      "metadata": {
        "colab": {
          "base_uri": "https://localhost:8080/"
        },
        "id": "-bRM8YwhYt3e",
        "outputId": "1299d71b-42c3-4c3f-d311-5e24975e2b85"
      },
      "execution_count": null,
      "outputs": [
        {
          "output_type": "stream",
          "name": "stdout",
          "text": [
            "           hello         \n",
            "hello\n"
          ]
        }
      ]
    },
    {
      "cell_type": "code",
      "source": [
        "s=\"banana\"\n",
        "print(s.find(\"an\",2,-1))\n",
        "print(s.count(\"an\"))"
      ],
      "metadata": {
        "colab": {
          "base_uri": "https://localhost:8080/"
        },
        "id": "swJc9KgkidwY",
        "outputId": "892b2ce5-f9b0-4751-91b4-112170acf46f"
      },
      "execution_count": null,
      "outputs": [
        {
          "output_type": "stream",
          "name": "stdout",
          "text": [
            "3\n",
            "2\n"
          ]
        }
      ]
    },
    {
      "cell_type": "code",
      "source": [
        "s=\"abcabcabcabcadda\"\n",
        "print(s.count(\"a\",2,10))\n",
        "print(s.count(\"abc\"))\n",
        "print(s.count(\"a\"))"
      ],
      "metadata": {
        "colab": {
          "base_uri": "https://localhost:8080/"
        },
        "id": "IXIVuPJ8lQLj",
        "outputId": "c55ee2bd-5014-495e-c4ac-2c2687ae1258"
      },
      "execution_count": null,
      "outputs": [
        {
          "output_type": "stream",
          "name": "stdout",
          "text": [
            "3\n",
            "4\n",
            "6\n"
          ]
        }
      ]
    },
    {
      "cell_type": "code",
      "source": [
        "numbers = [1, 2, 3]\n",
        "\n",
        "for i in numbers:\n",
        "    for j in numbers:\n",
        "        if i != j:\n",
        "            for k in numbers:\n",
        "                if k != i and k != j:\n",
        "                    print(i, j, k)"
      ],
      "metadata": {
        "colab": {
          "base_uri": "https://localhost:8080/"
        },
        "id": "k80eK6lUniIt",
        "outputId": "0337bbce-e226-4d9f-c53d-eb248ec8caa7"
      },
      "execution_count": null,
      "outputs": [
        {
          "output_type": "stream",
          "name": "stdout",
          "text": [
            "1 2 3\n",
            "1 3 2\n",
            "2 1 3\n",
            "2 3 1\n",
            "3 1 2\n",
            "3 2 1\n"
          ]
        }
      ]
    }
  ]
}